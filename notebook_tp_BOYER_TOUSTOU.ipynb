{
 "cells": [
  {
   "cell_type": "markdown",
   "metadata": {},
   "source": [
    "# Développement logiciel - HMMA 238\n",
    "\n",
    "\n",
    "##     Travaux Pratiques Python \n",
    "\n",
    "####    Mégane BOYER & Emeline Toustou"
   ]
  },
  {
   "cell_type": "markdown",
   "metadata": {},
   "source": [
    "# EXERCICE 1: Le jeu de la vie"
   ]
  },
  {
   "cell_type": "markdown",
   "metadata": {},
   "source": [
    "## Implémentation sans numpy"
   ]
  },
  {
   "cell_type": "markdown",
   "metadata": {},
   "source": [
    "Nous définissons la fonction $calcul\\_nb\\_voisins$ dans le fichier utils.py en codant les cellules vivantes par des 1 et les cellules mortes par des 0, puis nous l'appelons."
   ]
  },
  {
   "cell_type": "code",
   "execution_count": 1,
   "metadata": {},
   "outputs": [],
   "source": [
    "from utils import calcul_nb_voisins"
   ]
  },
  {
   "cell_type": "markdown",
   "metadata": {},
   "source": [
    "### Question 4 :\n",
    "\n",
    "Nous allons appliquer la fonction $calcul\\_nb\\_voisins$ à la liste Z suivante et expliquer ce que représente la sortie $N=calcul\\_nb\\_voisins(Z)$."
   ]
  },
  {
   "cell_type": "code",
   "execution_count": 2,
   "metadata": {},
   "outputs": [],
   "source": [
    "Z = [[0,0,0,0,0,0],\n",
    "    [0,0,0,1,0,0],\n",
    "    [0,1,0,1,0,0],\n",
    "    [0,0,1,1,0,0],\n",
    "    [0,0,0,0,0,0],\n",
    "    [0,0,0,0,0,0]]"
   ]
  },
  {
   "cell_type": "code",
   "execution_count": 3,
   "metadata": {
    "scrolled": true
   },
   "outputs": [
    {
     "name": "stdout",
     "output_type": "stream",
     "text": [
      "[[0, 0, 0, 0, 0, 0], [0, 1, 3, 1, 2, 0], [0, 1, 5, 3, 3, 0], [0, 2, 3, 2, 2, 0], [0, 1, 2, 2, 1, 0], [0, 0, 0, 0, 0, 0]]\n"
     ]
    }
   ],
   "source": [
    "N = calcul_nb_voisins(Z)\n",
    "\n",
    "print(N)"
   ]
  },
  {
   "cell_type": "markdown",
   "metadata": {},
   "source": [
    "La sortie $N=calcul\\_nb\\_voisins(Z)$ est une liste de listes qui représente le nombre de voisins vivants de chaque cellule n'appartenant pas au pourtour de la grille. En effet, nous avons supposé que le pourtour de la grille est toujours mort : la première et la dernière liste ne sont composées que de 0 et les premiers et sizièmes éléments de chaque liste sont égaux à 0."
   ]
  },
  {
   "cell_type": "markdown",
   "metadata": {},
   "source": [
    "Nous définissons maintenant la fonctions $iteration\\_jeu$ dans le fichier utils.py.\n",
    "Cette fonction prend en argument une liste de listes représentant l'état initial du jeu. Elle retourne l'état de ce dernier après une étape du jeu de la vie, c'est-à-dire l'état de chaque cellule (vivante : 1, morte : 0) après une itération du jeu. Nous affichons la docstring de cette fonction."
   ]
  },
  {
   "cell_type": "code",
   "execution_count": 4,
   "metadata": {},
   "outputs": [
    {
     "name": "stdout",
     "output_type": "stream",
     "text": [
      "Help on function iteration_jeu in module utils:\n",
      "\n",
      "iteration_jeu(Z)\n",
      "    Entrée : Prend en argument une liste de (listes) représentant l'état initial du jeu. \n",
      "    Sortie : Retourne une liste de listes correspondant à l'état du jeu à l'étape suivante .\n",
      "    \n",
      "    Pour chaque cellule qui n'est pas sur le pourtour de la grille, \n",
      "    iteration_jeu détermine le nouvel état de la cellule (vivante ou morte)\n",
      "    en fonction de son nombre de voisins vivants.\n",
      "    \n",
      "    Une cellule morte avec trois voisins vivants exactement nait.\n",
      "    Une cellule vivante ayant deux ou trois voisins vivants reste en vie.\n",
      "    Une cellule vivante ayant au moins quatre voisins vivants meurt.\n",
      "    Une cellule vivante ayant zero ou un voisin vivant meurt.\n",
      "\n"
     ]
    }
   ],
   "source": [
    "from utils import iteration_jeu\n",
    "\n",
    "help(iteration_jeu)"
   ]
  },
  {
   "cell_type": "markdown",
   "metadata": {},
   "source": [
    "### Question 5 :\n",
    "\n",
    "Dans cette question nous nous proposons pour la liste Z ci-dessus, d'afficher les étapes du jeu de 0 à 9 itérations, en utilisant une boucle for."
   ]
  },
  {
   "cell_type": "code",
   "execution_count": null,
   "metadata": {
    "scrolled": true
   },
   "outputs": [],
   "source": [
    "import matplotlib.pyplot as plt\n",
    "import numpy as np\n",
    "    \n",
    "    \n",
    "plt.figure(figsize = (10, 5))\n",
    "Znew = np.copy(Z)\n",
    "\n",
    "for i in range(10):\n",
    "    plt.subplot(2, 5, i+1)\n",
    "    plt.imshow(np.array(Znew))\n",
    "    Znew = iteration_jeu(Znew)\n",
    "    plt.title(\"Itération \"+str(i))\n",
    "    \n"
   ]
  },
  {
   "cell_type": "markdown",
   "metadata": {},
   "source": [
    "### Question 6: \n",
    "Que remarquez-vous entre l'itération 0 et l'itération 4 ? Que se passe-t-il après l'itération 7 ?\n"
   ]
  },
  {
   "cell_type": "markdown",
   "metadata": {},
   "source": [
    "Entre l'itération 0 et 4 on observe que les cellules évoluent. Le nombre de cellules vivantes est stable égal à 5. Les formes se répètent. En effet, on remarque que la disposition des cellules vivantes est similaire pour l'itération 0, 2, 4, mais décalé comme entre l'itération 0 et 4 où les cellules vivantes se sont toutes déplacées d'une cellule en bas et d'une cellule à droite, et parfois les cellules ont changé de sens comme dans l'itération 2. Il en est de même pour les itérations 1 et 3 ( même forme mais translaté).\n",
    "A partir de l'itération 7, le jeu est stable et ne bougera donc plus. En effet, chaque cellule vivante possède 3 voisins et donc reste en équilibre à l'itération suivante, quant aux  cellules mortes,  elles n'ont au plus que 2 voisins, et donc ne peuvent pas naître. Il n'y aura aucune évolution dans les prochaines itérations."
   ]
  },
  {
   "cell_type": "markdown",
   "metadata": {},
   "source": [
    "## Implémentation avec numba"
   ]
  },
  {
   "cell_type": "markdown",
   "metadata": {},
   "source": [
    "Nous allons maintenant reprendre la section précédente avec des fonctions utilisant numba et la compilation jit. Puis, nous comparerons les temps de calcul obtenus avec Numba avec ceux obtenus dans la section précédente."
   ]
  },
  {
   "cell_type": "code",
   "execution_count": null,
   "metadata": {},
   "outputs": [],
   "source": [
    "import time\n",
    "from numba import jit"
   ]
  },
  {
   "cell_type": "code",
   "execution_count": null,
   "metadata": {},
   "outputs": [],
   "source": [
    "@jit(nopython=True)\n",
    "\n",
    "def calcul_nb_voisins(Z):\n",
    "    \"\"\"Calcul du nombre de voisins vivants.\"\"\"\n",
    "    forme = len(Z), len(Z[0])\n",
    "    N = [[0, ] * (forme[0]) for i in range(forme[1])]\n",
    "    for x in range(1, forme[0] - 1):\n",
    "        for y in range(1, forme[1] - 1):\n",
    "            N[x][y] = Z[x-1][y-1] + Z[x][y-1] + Z[x+1][y-1] \\\n",
    "                    + Z[x-1][y] + 0 + Z[x+1][y] \\\n",
    "                    + Z[x-1][y+1] + Z[x][y+1] + Z[x+1][y+1]\n",
    "    return N"
   ]
  },
  {
   "cell_type": "markdown",
   "metadata": {},
   "source": [
    "## EXERCICE 2 : Regression Logistique"
   ]
  },
  {
   "cell_type": "markdown",
   "metadata": {},
   "source": [
    "### Question 1: "
   ]
  },
  {
   "cell_type": "code",
   "execution_count": null,
   "metadata": {},
   "outputs": [],
   "source": [
    "import sklearn\n",
    "sklearn.__version__ "
   ]
  },
  {
   "cell_type": "code",
   "execution_count": null,
   "metadata": {},
   "outputs": [],
   "source": [
    "from sklearn.datasets import fetch_openml\n",
    "from random import randint"
   ]
  },
  {
   "cell_type": "code",
   "execution_count": null,
   "metadata": {},
   "outputs": [],
   "source": [
    "mnist = fetch_openml('mnist_784')\n",
    "X = mnist.data.astype('float64') #normalement il s'agit déjà de flottant dans cette version. \n",
    "y = mnist.target.astype(np.int8) # fetch_openml() returns targets as strings.\n",
    "#y = mnist.target\n"
   ]
  },
  {
   "cell_type": "code",
   "execution_count": null,
   "metadata": {},
   "outputs": [],
   "source": [
    "mnist.keys()"
   ]
  },
  {
   "cell_type": "code",
   "execution_count": null,
   "metadata": {},
   "outputs": [],
   "source": [
    "X.shape"
   ]
  },
  {
   "cell_type": "code",
   "execution_count": null,
   "metadata": {},
   "outputs": [],
   "source": [
    "y.shape"
   ]
  },
  {
   "cell_type": "code",
   "execution_count": null,
   "metadata": {},
   "outputs": [],
   "source": [
    "X"
   ]
  },
  {
   "cell_type": "code",
   "execution_count": null,
   "metadata": {},
   "outputs": [],
   "source": [
    "y"
   ]
  },
  {
   "cell_type": "markdown",
   "metadata": {},
   "source": [
    "Autre façon:"
   ]
  },
  {
   "cell_type": "code",
   "execution_count": null,
   "metadata": {},
   "outputs": [],
   "source": [
    "X,y = fetch_openml('mnist_784', version=1, return_X_y=True)"
   ]
  },
  {
   "cell_type": "code",
   "execution_count": null,
   "metadata": {},
   "outputs": [],
   "source": [
    "X"
   ]
  },
  {
   "cell_type": "code",
   "execution_count": null,
   "metadata": {},
   "outputs": [],
   "source": [
    "y"
   ]
  },
  {
   "cell_type": "markdown",
   "metadata": {},
   "source": [
    "### Question 2:\n",
    "    \n",
    "Transformer X et y pour ne garder que les cas des chi􏰀ffres 3 et 7:"
   ]
  },
  {
   "cell_type": "code",
   "execution_count": null,
   "metadata": {
    "scrolled": true
   },
   "outputs": [],
   "source": [
    "classe_3 = np.array(y==3)\n",
    "classe_7 = np.array(y==7)\n",
    "classe_3_7 = classe_3 + classe_7  #On somme terme à terme pour ne garder que les cas des chiffres 3 et 7\n",
    "\n",
    "X_3_7 = X[classe_3_7]\n",
    "y_3_7 = y[classe_3_7]\n"
   ]
  },
  {
   "cell_type": "markdown",
   "metadata": {},
   "source": [
    "Visualisons avec imshow un exemple de chaque classe d'image (un X donc), en utilisant un reshape adapté."
   ]
  },
  {
   "cell_type": "code",
   "execution_count": null,
   "metadata": {},
   "outputs": [],
   "source": [
    "plt.figure(figsize=(20,4))\n",
    "for i in range(10):\n",
    "    plt.subplot(2,5,i+1)\n",
    "    img = (X_3_7[randint(0,len(X_3_7)-1)].reshape((28,28)))\n",
    "    plt.imshow(img, cmap=plt.cm.gray)"
   ]
  },
  {
   "cell_type": "markdown",
   "metadata": {},
   "source": [
    "### Question 3:\n",
    "\n",
    "Utilisons la fonction LogisticRegression pour apprendre un modèle de classi􏰅cafication sur l'intégralité des données. (on choisira un cas sans ordonnée à l'origine, i.e., l'option fit_intercept=False)"
   ]
  },
  {
   "cell_type": "code",
   "execution_count": null,
   "metadata": {},
   "outputs": [],
   "source": [
    "#from sklearn.linear_model import LogisticRegression\n",
    "#logisticRegr = LogisticRegression(fit_intercept = False, solver='lbfgs')\n",
    "#logisticRegr.fit(X_3_7, y_3_7)\n",
    "\n",
    "from sklearn import linear_model\n",
    "logisticRegr= linear_model.LogisticRegression(fit_intercept=False)\n",
    "logisticRegr.fit(X_3_7, y_3_7)"
   ]
  },
  {
   "cell_type": "code",
   "execution_count": null,
   "metadata": {},
   "outputs": [],
   "source": [
    "logisticRegr.coef_.shape"
   ]
  },
  {
   "cell_type": "code",
   "execution_count": null,
   "metadata": {},
   "outputs": [],
   "source": [
    "X_3_7.shape"
   ]
  }
 ],
 "metadata": {
  "kernelspec": {
   "display_name": "Python 3",
   "language": "python",
   "name": "python3"
  },
  "language_info": {
   "codemirror_mode": {
    "name": "ipython",
    "version": 3
   },
   "file_extension": ".py",
   "mimetype": "text/x-python",
   "name": "python",
   "nbconvert_exporter": "python",
   "pygments_lexer": "ipython3",
   "version": "3.7.3"
  }
 },
 "nbformat": 4,
 "nbformat_minor": 2
}
