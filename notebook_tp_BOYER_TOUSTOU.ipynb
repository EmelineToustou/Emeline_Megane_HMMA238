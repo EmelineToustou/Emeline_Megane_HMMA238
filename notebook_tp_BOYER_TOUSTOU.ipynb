{
 "cells": [
  {
   "cell_type": "markdown",
   "metadata": {},
   "source": [
    "# Développement logiciel - HMMA 238\n",
    "\n",
    "\n",
    "##     Travaux Pratiques Python \n",
    "\n",
    "####    Mégane BOYER & Emeline Toustou"
   ]
  },
  {
   "cell_type": "markdown",
   "metadata": {},
   "source": [
    "# EXERCICE 1: Le jeu de la vie"
   ]
  },
  {
   "cell_type": "markdown",
   "metadata": {},
   "source": [
    "## Implémentation sans numpy"
   ]
  },
  {
   "cell_type": "markdown",
   "metadata": {},
   "source": [
    "Nous définissons la fonction $calcul\\_nb\\_voisins$ dans le fichier utils.py, puis nous l'appelons."
   ]
  },
  {
   "cell_type": "code",
   "execution_count": 1,
   "metadata": {},
   "outputs": [],
   "source": [
    "from utils import calcul_nb_voisins"
   ]
  },
  {
   "cell_type": "markdown",
   "metadata": {},
   "source": [
    "### Question 4 :\n",
    "\n",
    "Nous allons appliquer la fonction $calcul\\_nb\\_voisins$ à la liste (de listes) Z suivante et expliquer ce que représente la sortie $N=calcul\\_nb\\_voisins(Z)$. Nous rappelons que les cellules vivantes sont codées par des 1, les cellules mortes par des 0, et que le pourtour de la grille est supposé toujours inactif (mort)."
   ]
  },
  {
   "cell_type": "code",
   "execution_count": 14,
   "metadata": {},
   "outputs": [
    {
     "data": {
      "text/plain": [
       "[[0, 0, 0, 0, 0, 0],\n",
       " [0, 0, 0, 1, 0, 0],\n",
       " [0, 1, 0, 1, 0, 0],\n",
       " [0, 0, 1, 1, 0, 0],\n",
       " [0, 0, 0, 0, 0, 0],\n",
       " [0, 0, 0, 0, 0, 0]]"
      ]
     },
     "execution_count": 14,
     "metadata": {},
     "output_type": "execute_result"
    }
   ],
   "source": [
    "Z = [[0,0,0,0,0,0],\n",
    "    [0,0,0,1,0,0],\n",
    "    [0,1,0,1,0,0],\n",
    "    [0,0,1,1,0,0],\n",
    "    [0,0,0,0,0,0],\n",
    "    [0,0,0,0,0,0]]\n",
    "\n",
    "Z"
   ]
  },
  {
   "cell_type": "code",
   "execution_count": 3,
   "metadata": {
    "scrolled": true
   },
   "outputs": [
    {
     "data": {
      "text/plain": [
       "[[0, 0, 0, 0, 0, 0],\n",
       " [0, 1, 3, 1, 2, 0],\n",
       " [0, 1, 5, 3, 3, 0],\n",
       " [0, 2, 3, 2, 2, 0],\n",
       " [0, 1, 2, 2, 1, 0],\n",
       " [0, 0, 0, 0, 0, 0]]"
      ]
     },
     "execution_count": 3,
     "metadata": {},
     "output_type": "execute_result"
    }
   ],
   "source": [
    "N = calcul_nb_voisins(Z)\n",
    "\n",
    "N"
   ]
  },
  {
   "cell_type": "markdown",
   "metadata": {},
   "source": [
    "L'entrée de la fonction $N=calcul\\_nb\\_voisins(Z)$ est une liste (de listes), composée de 0 et de 1, représentant l'état du jeu de la vie. La sortie $N=calcul\\_nb\\_voisins(Z)$ est une liste de listes qui représente le nombre de voisins vivants de chaque cellule (de Z) n'appartenant pas au pourtour de la grille. En effet, nous avons supposé que le pourtour de la grille est toujours mort : cette fonction ne s'applique donc pas (conserve les 0) aux cellules du pourtour. Chaque cellule possède au plus 8 cellules voisines vivantes dans son entourage. \n",
    "\n",
    "Prenons un exemple : la cellule vivante à la troisième ligne et quatrième colonne de Z possède un voisin vivant au dessus d'elle, un autre en dessous, et un dernier en bas en gauche. Si nous regardons la valeur située à la position correspondante (ligne 3, colonne 4) dans N, nous constatons que cette cellule a effectivement trois voisins vivants."
   ]
  },
  {
   "cell_type": "markdown",
   "metadata": {},
   "source": [
    "Nous définissons maintenant la fonction $iteration\\_jeu$ dans le fichier utils.py.\n",
    "Cette fonction prend en argument une liste de listes représentant l'état initial du jeu. Elle retourne l'état de ce dernier après une étape du jeu de la vie, c'est-à-dire l'état de chaque cellule (vivante : 1, morte : 0) après une itération du jeu. Nous affichons la docstring de cette fonction puis nous appliquons cette dernière à la liste Z, définie précédemment."
   ]
  },
  {
   "cell_type": "code",
   "execution_count": 4,
   "metadata": {},
   "outputs": [
    {
     "name": "stdout",
     "output_type": "stream",
     "text": [
      "Help on function iteration_jeu in module utils:\n",
      "\n",
      "iteration_jeu(Z)\n",
      "    Entrée : Prend en argument une liste de (listes) représentant l'état initial du jeu. \n",
      "    Sortie : Retourne une liste de listes correspondant à l'état du jeu à l'étape suivante .\n",
      "    \n",
      "    Pour chaque cellule qui n'est pas sur le pourtour de la grille (considéré toujours mort), \n",
      "    iteration_jeu détermine le nouvel état de la cellule (vivante ou morte)\n",
      "    en fonction de son nombre de voisins vivants, calculé par la fonction calcul_nb_voisins.\n",
      "    \n",
      "    Une cellule morte avec trois voisins vivants exactement nait (naissance).\n",
      "    Une cellule vivante ayant deux ou trois voisins vivants reste en vie (équilibre).\n",
      "    Une cellule vivante ayant au moins quatre voisins vivants meurt par étouffement.\n",
      "    Une cellule vivante ayant zero ou un voisin vivant meurt par isolement.\n",
      "\n"
     ]
    }
   ],
   "source": [
    "from utils import iteration_jeu\n",
    "\n",
    "help(iteration_jeu)"
   ]
  },
  {
   "cell_type": "code",
   "execution_count": 5,
   "metadata": {},
   "outputs": [
    {
     "data": {
      "text/plain": [
       "[[0, 0, 0, 0, 0, 0],\n",
       " [0, 0, 1, 0, 0, 0],\n",
       " [0, 0, 0, 1, 1, 0],\n",
       " [0, 0, 1, 1, 0, 0],\n",
       " [0, 0, 0, 0, 0, 0],\n",
       " [0, 0, 0, 0, 0, 0]]"
      ]
     },
     "execution_count": 5,
     "metadata": {},
     "output_type": "execute_result"
    }
   ],
   "source": [
    "iteration_jeu(Z)"
   ]
  },
  {
   "cell_type": "markdown",
   "metadata": {},
   "source": [
    "Reprenons l'exemple de la cellule située à la troisième ligne et quatrième colonne. A l'issue d'une itération du jeu de la vie (sortie de la fonction), nous constatons qu'elle est toujours vivante, ce qui est le résultat attendu car elle possède trois voisins vivants. Nous pouvons aussi observer, par exemple, la naissance de la cellule située à la troisième ligne et cinquième colonne car celle-ci possèdait exactement trois voisins vivants à l'étape précédente du jeu de la vie."
   ]
  },
  {
   "cell_type": "markdown",
   "metadata": {},
   "source": [
    "### Question 5 :\n",
    "\n",
    "Dans cette question nous nous proposons pour la liste Z ci-dessus, d'afficher les étapes du jeu de 0 à 9 itérations, en utilisant une boucle for. Nous représentons ces dix étapes du jeu sur deux lignes et cinq colonnes, à l'aide de la fonction subplot de matplotlib. Nous transformerons aussi les listes en array afin de pouvoir utiliser la fonction imshow de matplotlib."
   ]
  },
  {
   "cell_type": "code",
   "execution_count": 9,
   "metadata": {
    "scrolled": true
   },
   "outputs": [],
   "source": [
    "import matplotlib.pyplot as plt\n",
    "import numpy as np\n",
    "import math"
   ]
  },
  {
   "cell_type": "code",
   "execution_count": 20,
   "metadata": {},
   "outputs": [
    {
     "data": {
      "image/png": "[encoded data removed]",
      "text/plain": [
       "<Figure size 720x360 with 10 Axes>"
      ]
     },
     "metadata": {
      "needs_background": "light"
     },
     "output_type": "display_data"
    }
   ],
   "source": [
    "plt.figure(figsize = (10, 5))\n",
    "Znew = [[0,0,0,0,0,0],\n",
    "        [0,0,0,1,0,0],\n",
    "        [0,1,0,1,0,0],\n",
    "        [0,0,1,1,0,0],\n",
    "        [0,0,0,0,0,0],\n",
    "        [0,0,0,0,0,0]]\n",
    "\n",
    "for i in range(10):\n",
    "    plt.subplot(2, 5, i+1)\n",
    "    plt.imshow(np.array(Znew))\n",
    "    Znew = iteration_jeu(Znew)\n",
    "    plt.title(\"Itération \" + str(i))\n",
    "    \n"
   ]
  },
  {
   "cell_type": "markdown",
   "metadata": {},
   "source": [
    "### Question 6: \n",
    "Que remarquez-vous entre l'itération 0 et l'itération 4 ? Que se passe-t-il après l'itération 7 ?\n"
   ]
  },
  {
   "cell_type": "markdown",
   "metadata": {},
   "source": [
    "Nous observons une évolution des cellules jusqu'à l'itération 6 (incluse). Entre l'itération 0 et l'itération 4, le nombre de cellules vivantes est stable et égal à 5. Les formes se répètent. En effet, nous remarquons que la disposition des cellules vivantes est similaire pour les itérations 0, 2, 4, mais décalée, comme tel est le cas entre les itérations 0 et 4 où les cellules vivantes se sont toutes déplacées d'une cellule en bas et d'une cellule à droite. De plus, les cellules ont parfois changé de \"sens\" (rotation et symétrie) comme dans l'itération 2. Il en est de même pour les itérations 1 et 3 (même forme à une rotation puis une symétrie près).\n",
    "A partir de l'itération 7, le jeu est stable et ne bougera donc plus. En effet, chaque cellule vivante possède trois voisins et reste donc en équilibre à l'itération suivante. Quant aux  cellules mortes, elles n'ont au plus que deux voisins, et ne peuvent donc pas naître. Il n'y aura ainsi aucune évolution dans les prochaines itérations."
   ]
  },
  {
   "cell_type": "markdown",
   "metadata": {},
   "source": [
    "## Implémentation avec numba"
   ]
  },
  {
   "cell_type": "markdown",
   "metadata": {},
   "source": [
    "### Question 7 :\n",
    "\n",
    "Nous allons maintenant reprendre la section précédente avec des fonctions utilisant numba et la compilation jit. Puis, nous comparerons les temps de calcul obtenus avec Numba (et la compilation jit), avec ceux obtenus dans la section précédente."
   ]
  },
  {
   "cell_type": "code",
   "execution_count": 21,
   "metadata": {},
   "outputs": [],
   "source": [
    "from numba import jit\n",
    "import time"
   ]
  },
  {
   "cell_type": "markdown",
   "metadata": {},
   "source": [
    "Nous allons définir dans le fichier utils.py les fonctions $calcul\\_nb\\_voisins\\_jit$ et $iteration\\_jeu\\_jit$ qui utilisent numba et la compilation jit. Nous pourrons alors comparer les temps de calcul avec la section précédente de deux façons différentes. La première méthode utilisera $time.time()$ tandis que la deuxième méthode utilisera $\\%timeit$ et fera donc une moyenne de plusieurs temps de calcul (pour chaque fonction)."
   ]
  },
  {
   "cell_type": "markdown",
   "metadata": {},
   "source": [
    "Nous comparons les temps de calcul des fonctions $calcul\\_nb\\_voisins$ et $calcul\\_nb\\_voisins\\_jit$."
   ]
  },
  {
   "cell_type": "code",
   "execution_count": 22,
   "metadata": {},
   "outputs": [
    {
     "name": "stdout",
     "output_type": "stream",
     "text": [
      "Temps sans numba = 0.0010001659393310547\n"
     ]
    }
   ],
   "source": [
    "# Temps pour la fonction calcul_nb_voisins sans numba et jit.\n",
    "\n",
    "start = time.time()\n",
    "calcul_nb_voisins(Z)\n",
    "end = time.time()\n",
    "\n",
    "print(\"Temps sans numba = %s\" % (end - start))"
   ]
  },
  {
   "cell_type": "code",
   "execution_count": 23,
   "metadata": {},
   "outputs": [
    {
     "name": "stdout",
     "output_type": "stream",
     "text": [
      "Temps avec numba (avec compilation) = 3.7672152519226074\n",
      "Temps avec numba (après compilation) = 0.0\n"
     ]
    }
   ],
   "source": [
    "from utils import calcul_nb_voisins_jit\n",
    "\n",
    "# Temps pour la fonction calcul_nb_voisins avec numba et jit.\n",
    "\n",
    "# Compilation incluse :\n",
    "start = time.time()\n",
    "calcul_nb_voisins_jit(np.array(Z))\n",
    "end = time.time()\n",
    "\n",
    "print(\"Temps avec numba (avec compilation) = %s\" % (end - start))\n",
    "\n",
    "\n",
    "# Compilation non incluse : \n",
    "start = time.time()\n",
    "calcul_nb_voisins_jit(np.array(Z))\n",
    "end = time.time()\n",
    "\n",
    "print(\"Temps avec numba (après compilation) = %s\" % (end - start))"
   ]
  },
  {
   "cell_type": "code",
   "execution_count": 24,
   "metadata": {},
   "outputs": [
    {
     "name": "stdout",
     "output_type": "stream",
     "text": [
      "29.1 µs ± 606 ns per loop (mean ± std. dev. of 7 runs, 10000 loops each)\n"
     ]
    }
   ],
   "source": [
    "%timeit calcul_nb_voisins(Z)"
   ]
  },
  {
   "cell_type": "code",
   "execution_count": 25,
   "metadata": {},
   "outputs": [
    {
     "name": "stdout",
     "output_type": "stream",
     "text": [
      "11.8 µs ± 1.09 µs per loop (mean ± std. dev. of 7 runs, 100000 loops each)\n"
     ]
    }
   ],
   "source": [
    "%timeit calcul_nb_voisins_jit(np.array(Z))"
   ]
  },
  {
   "cell_type": "markdown",
   "metadata": {},
   "source": [
    "Nous constatons que le temps de calcul de la fonction $calcul\\_nb\\_voisins$ et bien plus faible que celui de la fonction $calcul\\_nb\\_voisins\\_jit$. En effet, le temps de calcul de la fonction utilisant Numba et la compilation jit, est plus de deux fois plus élevé que celui de la fonction n'ayant pas cet apport."
   ]
  },
  {
   "cell_type": "markdown",
   "metadata": {},
   "source": [
    "Nous comparons maintenant les temps de calcul des fonctions $iteration\\_jeu$ et $iteration\\_jeu\\_jit$."
   ]
  },
  {
   "cell_type": "code",
   "execution_count": 27,
   "metadata": {},
   "outputs": [
    {
     "name": "stdout",
     "output_type": "stream",
     "text": [
      "Temps sans numba = 0.0\n"
     ]
    }
   ],
   "source": [
    "# Temps pour la fonction iteration_jeu sans numba et jit.\n",
    "\n",
    "start = time.time()\n",
    "iteration_jeu(Z)\n",
    "end = time.time()\n",
    "\n",
    "print(\"Temps sans numba = %s\" % (end - start))"
   ]
  },
  {
   "cell_type": "code",
   "execution_count": 26,
   "metadata": {},
   "outputs": [
    {
     "name": "stdout",
     "output_type": "stream",
     "text": [
      "Temps avec numba (avec compilation) = 0.5040287971496582\n",
      "Temps avec numba (après compilation) = 0.0\n"
     ]
    }
   ],
   "source": [
    "from utils import iteration_jeu_jit\n",
    "\n",
    "# Temps pour la fonction calcul_nb_voisins avec numba et jit.\n",
    "\n",
    "# Compilation incluse :\n",
    "start = time.time()\n",
    "iteration_jeu_jit(np.array(Z))\n",
    "end = time.time()\n",
    "\n",
    "print(\"Temps avec numba (avec compilation) = %s\" % (end - start))\n",
    "\n",
    "\n",
    "# Compilation non incluse : \n",
    "start = time.time()\n",
    "iteration_jeu_jit(np.array(Z))\n",
    "end = time.time()\n",
    "\n",
    "print(\"Temps avec numba (après compilation) = %s\" % (end - start))"
   ]
  },
  {
   "cell_type": "code",
   "execution_count": 28,
   "metadata": {},
   "outputs": [
    {
     "name": "stdout",
     "output_type": "stream",
     "text": [
      "37.4 µs ± 413 ns per loop (mean ± std. dev. of 7 runs, 10000 loops each)\n"
     ]
    }
   ],
   "source": [
    "%timeit iteration_jeu(Z)"
   ]
  },
  {
   "cell_type": "code",
   "execution_count": 29,
   "metadata": {},
   "outputs": [
    {
     "name": "stdout",
     "output_type": "stream",
     "text": [
      "10.6 µs ± 129 ns per loop (mean ± std. dev. of 7 runs, 100000 loops each)\n"
     ]
    }
   ],
   "source": [
    "%timeit iteration_jeu_jit(np.array(Z))"
   ]
  },
  {
   "cell_type": "markdown",
   "metadata": {},
   "source": [
    "Nous observons que le temps de calcul de la fonction $iteration\\_jeu$ et bien plus petit que celui de la fonction $iteration\\_jeu\\_jit$. En effet, le temps de calcul de la fonction utilisant Numba et la compilation jit, est plus de trois fois plus élevé que celui de la fonction n'ayant pas cet apport."
   ]
  },
  {
   "cell_type": "markdown",
   "metadata": {},
   "source": [
    "Les fonctions utilisant numba et la compilation jit ont un temps de calcul beaucoup moins élevé. Cet apport a donc permis de gagner en rapidité de calcul pour toutes les fonctions étudiées."
   ]
  },
  {
   "cell_type": "markdown",
   "metadata": {},
   "source": [
    "### Question 8 :\n",
    "\n",
    "Nous allons créer un widget dont le curseur permet de contrôler les itérations du jeu de la vie lorsque nous initialisons avec la matrice suivante."
   ]
  },
  {
   "cell_type": "code",
   "execution_count": 36,
   "metadata": {},
   "outputs": [],
   "source": [
    "Z_huge = np.zeros((100, 100))\n",
    "Z_np = np.array(\n",
    "    [[0, 0, 0, 0, 0, 0],\n",
    "     [0, 0, 0, 1, 0, 0],\n",
    "     [0, 1, 0, 1, 0, 0],\n",
    "     [0, 0, 1, 1, 0, 0],\n",
    "     [0, 0, 0, 0, 0, 0],\n",
    "     [0, 0, 0, 0, 0, 0]])\n",
    "Z_huge[10:16, 10:16] = Z_np\n"
   ]
  },
  {
   "cell_type": "markdown",
   "metadata": {},
   "source": [
    "Nous commençons par créer la fonction $affichage\\_jeu$ dans le fichier utils.py qui réalise un nombre d'itérations, donné en argument, du jeu de la vie en partant de la matrice initiale Z_huge. A l'issue de ces itérations du jeu de la vie, la fonction affiche l'état obtenu du jeu. A l'aide de cette fonction, nous pourrons alors créer le widget dont le curseur contrôle le nombre d'itérations."
   ]
  },
  {
   "cell_type": "code",
   "execution_count": 44,
   "metadata": {},
   "outputs": [],
   "source": [
    "def affichage_jeu(Etat_jeu, Iteration = 0):\n",
    "    \"\"\"\n",
    "    Affichage du jeu après un certain nombre d'itérations (donné en argument) du jeu de la vie.\n",
    "    \"\"\"\n",
    "    Z_iter = np.copy(Etat_jeu)\n",
    "    plt.figure(figsize = (10, 5))\n",
    "    for i in range(Iteration):\n",
    "        Z_iter = iteration_jeu(Z_iter)\n",
    "    plt.imshow(Z_iter)\n",
    "    plt.title(\"Etape \" + str(Iteration) + \" du jeu de la vie\")\n"
   ]
  },
  {
   "cell_type": "code",
   "execution_count": 52,
   "metadata": {},
   "outputs": [
    {
     "data": {
      "image/png": "[encoded data removed]",
      "text/plain": [
       "<Figure size 720x360 with 1 Axes>"
      ]
     },
     "metadata": {
      "needs_background": "light"
     },
     "output_type": "display_data"
    }
   ],
   "source": [
    "affichage_jeu(Z_huge, 0)"
   ]
  },
  {
   "cell_type": "code",
   "execution_count": 54,
   "metadata": {},
   "outputs": [
    {
     "data": {
      "application/vnd.jupyter.widget-view+json": {
       "model_id": "79743cb7ef024e7f9a057002c50cca38",
       "version_major": 2,
       "version_minor": 0
      },
      "text/plain": [
       "interactive(children=(IntSlider(value=0, description='Iteration', max=30), Output()), _dom_classes=('widget-in…"
      ]
     },
     "metadata": {},
     "output_type": "display_data"
    }
   ],
   "source": [
    "from ipywidgets import interact\n",
    "from ipywidgets import fixed\n",
    "\n",
    "interact(affichage_jeu, Etat_jeu = fixed(Z_huge) ,Iteration = (0, 30, 1));"
   ]
  },
  {
   "cell_type": "markdown",
   "metadata": {},
   "source": [
    "Nous proposons de définir une nouvelle matrice initiale Z_huge_new afin de rendre le widget plus fluide et d'avoir une meilleure visualisation des états du jeu de la vie."
   ]
  },
  {
   "cell_type": "markdown",
   "metadata": {},
   "source": [
    "# EXERCICE 2 : Régression Logistique"
   ]
  },
  {
   "cell_type": "markdown",
   "metadata": {},
   "source": [
    "Nous nous intéressons à la base de données MNIST qui représente les chiffres numérisés dont nous connaissons une étiquette (de 1 à 9)."
   ]
  },
  {
   "cell_type": "markdown",
   "metadata": {},
   "source": [
    "### Question 1 : \n",
    "\n",
    "Nous chargeons la base de données MNIST à l'aide de la seconde commande proposée."
   ]
  },
  {
   "cell_type": "code",
   "execution_count": null,
   "metadata": {},
   "outputs": [],
   "source": [
    "import sklearn\n",
    "sklearn.__version__ "
   ]
  },
  {
   "cell_type": "code",
   "execution_count": null,
   "metadata": {},
   "outputs": [],
   "source": [
    "from sklearn.datasets import fetch_openml\n",
    "\n",
    "from random import randint"
   ]
  },
  {
   "cell_type": "code",
   "execution_count": null,
   "metadata": {},
   "outputs": [],
   "source": [
    "mnist = fetch_openml('mnist_784')\n",
    "# X = mnist.data.astype('float64')\n",
    "# y = mnist.target.astype(np.int8)\n"
   ]
  },
  {
   "cell_type": "code",
   "execution_count": null,
   "metadata": {},
   "outputs": [],
   "source": [
    "mnist.keys()"
   ]
  },
  {
   "cell_type": "code",
   "execution_count": null,
   "metadata": {},
   "outputs": [],
   "source": [
    "X.shape"
   ]
  },
  {
   "cell_type": "code",
   "execution_count": null,
   "metadata": {},
   "outputs": [],
   "source": [
    "y.shape"
   ]
  },
  {
   "cell_type": "code",
   "execution_count": null,
   "metadata": {},
   "outputs": [],
   "source": [
    "X"
   ]
  },
  {
   "cell_type": "code",
   "execution_count": null,
   "metadata": {},
   "outputs": [],
   "source": [
    "y"
   ]
  },
  {
   "cell_type": "markdown",
   "metadata": {},
   "source": [
    "Autre façon:"
   ]
  },
  {
   "cell_type": "code",
   "execution_count": null,
   "metadata": {},
   "outputs": [],
   "source": [
    "X,y = fetch_openml('mnist_784', version=1, return_X_y=True)"
   ]
  },
  {
   "cell_type": "code",
   "execution_count": null,
   "metadata": {},
   "outputs": [],
   "source": [
    "X"
   ]
  },
  {
   "cell_type": "code",
   "execution_count": null,
   "metadata": {},
   "outputs": [],
   "source": [
    "y"
   ]
  },
  {
   "cell_type": "markdown",
   "metadata": {},
   "source": [
    "### Question 2:\n",
    "    \n",
    "Nous transformons X et y pour ne garder que les cas des chiffres 3 et 7."
   ]
  },
  {
   "cell_type": "code",
   "execution_count": null,
   "metadata": {
    "scrolled": true
   },
   "outputs": [],
   "source": [
    "classe_3 = np.array(y == 3)\n",
    "classe_7 = np.array(y == 7)\n",
    "classe_3_7 = classe_3 + classe_7\n",
    "\n",
    "X_3_7 = X[classe_3_7]\n",
    "y_3_7 = y[classe_3_7]\n"
   ]
  },
  {
   "cell_type": "markdown",
   "metadata": {},
   "source": [
    "Visualisons avec imshow un exemple de chaque classe d'image (un X donc)."
   ]
  },
  {
   "cell_type": "code",
   "execution_count": null,
   "metadata": {},
   "outputs": [],
   "source": [
    "plt.figure(figsize=(20,4))\n",
    "for i in range(10):\n",
    "    plt.subplot(2,5,i+1)\n",
    "    img = (X_3_7[randint(0,len(X_3_7)-1)].reshape((28,28)))\n",
    "    plt.imshow(img, cmap=plt.cm.gray)\n",
    "    "
   ]
  },
  {
   "cell_type": "markdown",
   "metadata": {},
   "source": [
    "### Question 3:\n",
    "\n",
    "Utilisons la fonction LogisticRegression pour apprendre un modèle de classi􏰅fication sur l'intégralité des données. (on choisira un cas sans ordonnée à l'origine, i.e., l'option fit_intercept=False)"
   ]
  },
  {
   "cell_type": "code",
   "execution_count": null,
   "metadata": {},
   "outputs": [],
   "source": [
    "#from sklearn.linear_model import LogisticRegression\n",
    "#logisticRegr = LogisticRegression(fit_intercept = False, solver='lbfgs')\n",
    "#logisticRegr.fit(X_3_7, y_3_7)\n",
    "\n",
    "from sklearn import linear_model\n",
    "logisticRegr= linear_model.LogisticRegression(fit_intercept=False)\n",
    "logisticRegr.fit(X_3_7, y_3_7)"
   ]
  },
  {
   "cell_type": "markdown",
   "metadata": {},
   "source": [
    "Le modèle prédit alors la classe d'une image en considérant une image comme un vecteur $x$ et en choisissant l'une des deux classes selon le signe de $w^T x$, où $w$ est le vecteur appris par la méthode et stocké dans l'attribut .coef_. Soit: "
   ]
  },
  {
   "cell_type": "code",
   "execution_count": null,
   "metadata": {},
   "outputs": [],
   "source": [
    "w= logisticRegr.coef_"
   ]
  },
  {
   "cell_type": "markdown",
   "metadata": {},
   "source": [
    "On observe la taille de W:"
   ]
  },
  {
   "cell_type": "code",
   "execution_count": null,
   "metadata": {},
   "outputs": [],
   "source": [
    "w.shape"
   ]
  },
  {
   "cell_type": "code",
   "execution_count": null,
   "metadata": {},
   "outputs": [],
   "source": [
    "X_3_7.shape"
   ]
  },
  {
   "cell_type": "markdown",
   "metadata": {},
   "source": [
    "## Question 4:\n"
   ]
  },
  {
   "cell_type": "code",
   "execution_count": null,
   "metadata": {},
   "outputs": [],
   "source": [
    "def fig_digit(x, w, alpha):\n",
    "    \n",
    "    #X doit être un vecteur de taille (1,784)\n",
    "    xmod = x.reshape(1,784)- ( alpha * np.dot(w.T,x) * w /np.linalg.norm(w)**2 )\n"
   ]
  }
 ],
 "metadata": {
  "kernelspec": {
   "display_name": "Python 3",
   "language": "python",
   "name": "python3"
  },
  "language_info": {
   "codemirror_mode": {
    "name": "ipython",
    "version": 3
   },
   "file_extension": ".py",
   "mimetype": "text/x-python",
   "name": "python",
   "nbconvert_exporter": "python",
   "pygments_lexer": "ipython3",
   "version": "3.7.3"
  }
 },
 "nbformat": 4,
 "nbformat_minor": 2
}
