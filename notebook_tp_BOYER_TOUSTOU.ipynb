{
 "cells": [
  {
   "cell_type": "markdown",
   "metadata": {},
   "source": [
    "# Développement logiciel - HMMA 238\n",
    "\n",
    "\n",
    "##     Travaux Pratiques Python \n",
    "\n",
    "####    Mégane BOYER & Emeline Toustou"
   ]
  },
  {
   "cell_type": "markdown",
   "metadata": {},
   "source": [
    "# EXERCICE 1: Le jeu de la vie"
   ]
  },
  {
   "cell_type": "markdown",
   "metadata": {},
   "source": [
    "## Implémentation sans numpy"
   ]
  },
  {
   "cell_type": "markdown",
   "metadata": {},
   "source": [
    "Nous définissons la fonction $calcul\\_nb\\_voisins$ dans le fichier utils.py, puis nous l'appelons."
   ]
  },
  {
   "cell_type": "code",
   "execution_count": null,
   "metadata": {},
   "outputs": [],
   "source": [
    "from utils import calcul_nb_voisins"
   ]
  },
  {
   "cell_type": "markdown",
   "metadata": {},
   "source": [
    "### Question 4 :\n",
    "\n",
    "Nous allons appliquer la fonction $calcul\\_nb\\_voisins$ à la liste (de listes) Z suivante et expliquer ce que représente la sortie $N=calcul\\_nb\\_voisins(Z)$. Nous rappelons que les cellules vivantes sont codées par des 1, les cellules mortes par des 0, et que le pourtour de la grille est supposé toujours inactif (mort)."
   ]
  },
  {
   "cell_type": "code",
   "execution_count": null,
   "metadata": {},
   "outputs": [],
   "source": [
    "Z = [[0,0,0,0,0,0],\n",
    "    [0,0,0,1,0,0],\n",
    "    [0,1,0,1,0,0],\n",
    "    [0,0,1,1,0,0],\n",
    "    [0,0,0,0,0,0],\n",
    "    [0,0,0,0,0,0]]\n",
    "\n",
    "Z"
   ]
  },
  {
   "cell_type": "code",
   "execution_count": null,
   "metadata": {
    "scrolled": true
   },
   "outputs": [],
   "source": [
    "N = calcul_nb_voisins(Z)\n",
    "\n",
    "N"
   ]
  },
  {
   "cell_type": "markdown",
   "metadata": {},
   "source": [
    "L'entrée de la fonction $N=calcul\\_nb\\_voisins(Z)$ est une liste (de listes), composée de 0 et de 1, représentant l'état du jeu de la vie. La sortie $N=calcul\\_nb\\_voisins(Z)$ est une liste de listes qui représente le nombre de voisins vivants de chaque cellule (de Z) n'appartenant pas au pourtour de la grille. En effet, nous avons supposé que le pourtour de la grille est toujours mort : cette fonction ne s'applique donc pas (conserve les 0) aux cellules du pourtour. Chaque cellule possède au plus 8 cellules voisines vivantes dans son entourage. \n",
    "\n",
    "Prenons un exemple : la cellule vivante à la troisième ligne et quatrième colonne de Z possède un voisin vivant au dessus d'elle, un autre en dessous, et un dernier en bas en gauche. Si nous regardons la valeur située à la position correspondante (ligne 3, colonne 4) dans N, nous constatons que cette cellule a effectivement trois voisins vivants."
   ]
  },
  {
   "cell_type": "markdown",
   "metadata": {},
   "source": [
    "Nous définissons maintenant la fonction $iteration\\_jeu$ dans le fichier utils.py.\n",
    "Cette fonction prend en argument une liste de listes représentant l'état initial du jeu. Elle retourne l'état de ce dernier après une étape du jeu de la vie, c'est-à-dire l'état de chaque cellule (vivante : 1, morte : 0) après une itération du jeu. Nous affichons la docstring de cette fonction puis nous appliquons cette dernière à la liste Z, définie précédemment."
   ]
  },
  {
   "cell_type": "code",
   "execution_count": null,
   "metadata": {},
   "outputs": [],
   "source": [
    "from utils import iteration_jeu\n",
    "\n",
    "help(iteration_jeu)"
   ]
  },
  {
   "cell_type": "code",
   "execution_count": null,
   "metadata": {},
   "outputs": [],
   "source": [
    "iteration_jeu(Z)"
   ]
  },
  {
   "cell_type": "markdown",
   "metadata": {},
   "source": [
    "Reprenons l'exemple de la cellule située à la troisième ligne et quatrième colonne. A l'issue d'une itération du jeu de la vie (sortie de la fonction), nous constatons qu'elle est toujours vivante, ce qui est le résultat attendu car elle possède trois voisins vivants. Nous pouvons aussi observer, par exemple, la naissance de la cellule située à la troisième ligne et cinquième colonne car celle-ci possèdait exactement trois voisins vivants à l'étape précédente du jeu de la vie."
   ]
  },
  {
   "cell_type": "markdown",
   "metadata": {},
   "source": [
    "### Question 5 :\n",
    "\n",
    "Dans cette question nous nous proposons pour la liste Z ci-dessus, d'afficher les étapes du jeu de 0 à 9 itérations, en utilisant une boucle for. Nous représentons ces dix étapes du jeu sur deux lignes et cinq colonnes, à l'aide de la fonction subplot de matplotlib. Nous transformerons aussi les listes en array afin de pouvoir utiliser la fonction imshow de matplotlib."
   ]
  },
  {
   "cell_type": "code",
   "execution_count": 1,
   "metadata": {
    "scrolled": true
   },
   "outputs": [],
   "source": [
    "import matplotlib.pyplot as plt\n",
    "import numpy as np\n",
    "import math"
   ]
  },
  {
   "cell_type": "code",
   "execution_count": null,
   "metadata": {},
   "outputs": [],
   "source": [
    "plt.figure(figsize = (10, 5))\n",
    "Znew = [[0,0,0,0,0,0],\n",
    "        [0,0,0,1,0,0],\n",
    "        [0,1,0,1,0,0],\n",
    "        [0,0,1,1,0,0],\n",
    "        [0,0,0,0,0,0],\n",
    "        [0,0,0,0,0,0]]\n",
    "\n",
    "for i in range(10):\n",
    "    plt.subplot(2, 5, i+1)\n",
    "    plt.imshow(np.array(Znew))\n",
    "    Znew = iteration_jeu(Znew)\n",
    "    plt.title(\"Itération \" + str(i))\n",
    "    \n"
   ]
  },
  {
   "cell_type": "markdown",
   "metadata": {},
   "source": [
    "### Question 6: \n",
    "Que remarquez-vous entre l'itération 0 et l'itération 4 ? Que se passe-t-il après l'itération 7 ?\n"
   ]
  },
  {
   "cell_type": "markdown",
   "metadata": {},
   "source": [
    "Nous observons une évolution des cellules jusqu'à l'itération 6 (incluse). Entre l'itération 0 et l'itération 4, le nombre de cellules vivantes est stable et égal à 5. Les formes se répètent. En effet, nous remarquons que la disposition des cellules vivantes est similaire pour les itérations 0, 2, 4, mais décalée, comme tel est le cas entre les itérations 0 et 4 où les cellules vivantes se sont toutes déplacées d'une cellule en bas et d'une cellule à droite. De plus, les cellules ont parfois changé de \"sens\" (rotation et symétrie) comme dans l'itération 2. Il en est de même pour les itérations 1 et 3 (même forme à une rotation puis une symétrie près).\n",
    "A partir de l'itération 7, le jeu est stable et ne bougera donc plus. En effet, chaque cellule vivante possède trois voisins et reste donc en équilibre à l'itération suivante. Quant aux  cellules mortes, elles n'ont au plus que deux voisins, et ne peuvent donc pas naître. Il n'y aura ainsi aucune évolution dans les prochaines itérations."
   ]
  },
  {
   "cell_type": "markdown",
   "metadata": {},
   "source": [
    "## Implémentation avec numba"
   ]
  },
  {
   "cell_type": "markdown",
   "metadata": {},
   "source": [
    "### Question 7 :\n",
    "\n",
    "Nous allons maintenant reprendre la section précédente avec des fonctions utilisant numba et la compilation jit. Puis, nous comparerons les temps de calcul obtenus avec Numba (et la compilation jit), avec ceux obtenus dans la section précédente."
   ]
  },
  {
   "cell_type": "code",
   "execution_count": null,
   "metadata": {},
   "outputs": [],
   "source": [
    "from numba import jit\n",
    "import time"
   ]
  },
  {
   "cell_type": "markdown",
   "metadata": {},
   "source": [
    "Nous allons définir dans le fichier utils.py les fonctions $calcul\\_nb\\_voisins\\_jit$ et $iteration\\_jeu\\_jit$ qui utilisent numba et la compilation jit. Nous pourrons alors comparer les temps de calcul avec la section précédente de deux façons différentes. La première méthode utilisera $time.time()$ tandis que la deuxième méthode utilisera $\\%timeit$ et fera donc une moyenne de plusieurs temps de calcul (pour chaque fonction)."
   ]
  },
  {
   "cell_type": "markdown",
   "metadata": {},
   "source": [
    "Nous comparons les temps de calcul des fonctions $calcul\\_nb\\_voisins$ et $calcul\\_nb\\_voisins\\_jit$."
   ]
  },
  {
   "cell_type": "code",
   "execution_count": null,
   "metadata": {},
   "outputs": [],
   "source": [
    "# Temps pour la fonction calcul_nb_voisins sans numba et jit.\n",
    "\n",
    "start = time.time()\n",
    "calcul_nb_voisins(Z)\n",
    "end = time.time()\n",
    "\n",
    "print(\"Temps sans numba = %s\" % (end - start))"
   ]
  },
  {
   "cell_type": "code",
   "execution_count": null,
   "metadata": {},
   "outputs": [],
   "source": [
    "from utils import calcul_nb_voisins_jit\n",
    "\n",
    "# Temps pour la fonction calcul_nb_voisins avec numba et jit.\n",
    "\n",
    "# Compilation incluse :\n",
    "start = time.time()\n",
    "calcul_nb_voisins_jit(np.array(Z))\n",
    "end = time.time()\n",
    "\n",
    "print(\"Temps avec numba (avec compilation) = %s\" % (end - start))\n",
    "\n",
    "\n",
    "# Compilation non incluse : \n",
    "start = time.time()\n",
    "calcul_nb_voisins_jit(np.array(Z))\n",
    "end = time.time()\n",
    "\n",
    "print(\"Temps avec numba (après compilation) = %s\" % (end - start))"
   ]
  },
  {
   "cell_type": "code",
   "execution_count": null,
   "metadata": {},
   "outputs": [],
   "source": [
    "%timeit calcul_nb_voisins(Z)"
   ]
  },
  {
   "cell_type": "code",
   "execution_count": null,
   "metadata": {},
   "outputs": [],
   "source": [
    "%timeit calcul_nb_voisins_jit(np.array(Z))"
   ]
  },
  {
   "cell_type": "markdown",
   "metadata": {},
   "source": [
    "Nous constatons que le temps de calcul de la fonction $calcul\\_nb\\_voisins$ et bien plus faible que celui de la fonction $calcul\\_nb\\_voisins\\_jit$. En effet, le temps de calcul de la fonction utilisant Numba et la compilation jit, est plus de deux fois plus élevé que celui de la fonction n'ayant pas cet apport."
   ]
  },
  {
   "cell_type": "markdown",
   "metadata": {},
   "source": [
    "Nous comparons maintenant les temps de calcul des fonctions $iteration\\_jeu$ et $iteration\\_jeu\\_jit$."
   ]
  },
  {
   "cell_type": "code",
   "execution_count": null,
   "metadata": {},
   "outputs": [],
   "source": [
    "# Temps pour la fonction iteration_jeu sans numba et jit.\n",
    "\n",
    "start = time.time()\n",
    "iteration_jeu(Z)\n",
    "end = time.time()\n",
    "\n",
    "print(\"Temps sans numba = %s\" % (end - start))"
   ]
  },
  {
   "cell_type": "code",
   "execution_count": null,
   "metadata": {},
   "outputs": [],
   "source": [
    "from utils import iteration_jeu_jit\n",
    "\n",
    "# Temps pour la fonction calcul_nb_voisins avec numba et jit.\n",
    "\n",
    "# Compilation incluse :\n",
    "start = time.time()\n",
    "iteration_jeu_jit(np.array(Z))\n",
    "end = time.time()\n",
    "\n",
    "print(\"Temps avec numba (avec compilation) = %s\" % (end - start))\n",
    "\n",
    "\n",
    "# Compilation non incluse : \n",
    "start = time.time()\n",
    "iteration_jeu_jit(np.array(Z))\n",
    "end = time.time()\n",
    "\n",
    "print(\"Temps avec numba (après compilation) = %s\" % (end - start))"
   ]
  },
  {
   "cell_type": "code",
   "execution_count": null,
   "metadata": {},
   "outputs": [],
   "source": [
    "%timeit iteration_jeu(Z)"
   ]
  },
  {
   "cell_type": "code",
   "execution_count": null,
   "metadata": {},
   "outputs": [],
   "source": [
    "%timeit iteration_jeu_jit(np.array(Z))"
   ]
  },
  {
   "cell_type": "markdown",
   "metadata": {},
   "source": [
    "Nous observons que le temps de calcul de la fonction $iteration\\_jeu$ et bien plus petit que celui de la fonction $iteration\\_jeu\\_jit$. En effet, le temps de calcul de la fonction utilisant Numba et la compilation jit, est plus de trois fois plus élevé que celui de la fonction n'ayant pas cet apport."
   ]
  },
  {
   "cell_type": "markdown",
   "metadata": {},
   "source": [
    "Les fonctions utilisant numba et la compilation jit ont un temps de calcul beaucoup moins élevé. Cet apport a donc permis de gagner en rapidité de calcul pour toutes les fonctions étudiées."
   ]
  },
  {
   "cell_type": "markdown",
   "metadata": {},
   "source": [
    "### Question 8 :\n",
    "\n",
    "Nous allons créer un widget dont le curseur permet de contrôler les itérations du jeu de la vie lorsque nous initialisons avec la matrice suivante."
   ]
  },
  {
   "cell_type": "code",
   "execution_count": null,
   "metadata": {},
   "outputs": [],
   "source": [
    "Z_huge = np.zeros((100, 100))\n",
    "Z_np = np.array(\n",
    "    [[0, 0, 0, 0, 0, 0],\n",
    "     [0, 0, 0, 1, 0, 0],\n",
    "     [0, 1, 0, 1, 0, 0],\n",
    "     [0, 0, 1, 1, 0, 0],\n",
    "     [0, 0, 0, 0, 0, 0],\n",
    "     [0, 0, 0, 0, 0, 0]])\n",
    "Z_huge[10:16, 10:16] = Z_np\n"
   ]
  },
  {
   "cell_type": "markdown",
   "metadata": {},
   "source": [
    "Nous commençons par créer la fonction $affichage\\_jeu$ dans le fichier utils.py qui réalise un nombre d'itérations, donné en argument, du jeu de la vie en partant d'un état initial (aussi donné en argument). A l'issue de ces itérations du jeu de la vie, la fonction affiche l'état obtenu du jeu. Nous testons de qu'elle fonctionne en visualisant l'état initial (Iteration = 0) et en vérifiant que la forme correspond bien à celle de Z, défini précédemment. A l'aide de cette fonction, nous pourrons alors créer le widget dont le curseur contrôle le nombre d'itérations."
   ]
  },
  {
   "cell_type": "code",
   "execution_count": null,
   "metadata": {},
   "outputs": [],
   "source": [
    "from utils import affichage_jeu"
   ]
  },
  {
   "cell_type": "code",
   "execution_count": null,
   "metadata": {},
   "outputs": [],
   "source": [
    "affichage_jeu(Z_huge, 0)"
   ]
  },
  {
   "cell_type": "code",
   "execution_count": 18,
   "metadata": {},
   "outputs": [],
   "source": [
    "from ipywidgets import interact\n",
    "from ipywidgets import fixed"
   ]
  },
  {
   "cell_type": "code",
   "execution_count": null,
   "metadata": {},
   "outputs": [],
   "source": [
    "interact(affichage_jeu, Etat_jeu = fixed(Z_huge) ,Iteration = (0, 30, 1));"
   ]
  },
  {
   "cell_type": "markdown",
   "metadata": {},
   "source": [
    "Nous proposons maintenant de définir une nouvelle matrice initiale Z_huge_new afin de rendre le widget plus fluide et d'avoir une meilleure visualisation des états du jeu de la vie."
   ]
  },
  {
   "cell_type": "code",
   "execution_count": null,
   "metadata": {},
   "outputs": [],
   "source": [
    "Z_huge_new = np.zeros((30, 30))\n",
    "Z_np_new = np.array(\n",
    "    [[0, 0, 0, 0, 0, 0],\n",
    "     [0, 0, 0, 1, 0, 0],\n",
    "     [0, 1, 0, 1, 0, 0],\n",
    "     [0, 0, 1, 1, 0, 0],\n",
    "     [0, 0, 0, 0, 0, 0],\n",
    "     [0, 0, 0, 0, 0, 0]])\n",
    "Z_huge_new[10:16, 10:16] = Z_np_new"
   ]
  },
  {
   "cell_type": "code",
   "execution_count": null,
   "metadata": {},
   "outputs": [],
   "source": [
    "affichage_jeu(Z_huge_new, 0)"
   ]
  },
  {
   "cell_type": "code",
   "execution_count": null,
   "metadata": {},
   "outputs": [],
   "source": [
    "interact(affichage_jeu, Etat_jeu = fixed(Z_huge_new) ,Iteration = (0, 30, 1));"
   ]
  },
  {
   "cell_type": "markdown",
   "metadata": {},
   "source": [
    "# EXERCICE 2 : Régression Logistique"
   ]
  },
  {
   "cell_type": "markdown",
   "metadata": {},
   "source": [
    "Nous nous intéressons à la base de données MNIST qui représente les chiffres numérisés dont nous connaissons une étiquette (de 1 à 9)."
   ]
  },
  {
   "cell_type": "markdown",
   "metadata": {},
   "source": [
    "### Question 1 : \n",
    "\n",
    "Nous chargeons la base de données MNIST à l'aide de la seconde commande proposée dans l'énoncé."
   ]
  },
  {
   "cell_type": "code",
   "execution_count": 2,
   "metadata": {},
   "outputs": [
    {
     "data": {
      "text/plain": [
       "'0.20.3'"
      ]
     },
     "execution_count": 2,
     "metadata": {},
     "output_type": "execute_result"
    }
   ],
   "source": [
    "import sklearn ## Vérification version\n",
    "sklearn.__version__ "
   ]
  },
  {
   "cell_type": "code",
   "execution_count": 3,
   "metadata": {},
   "outputs": [],
   "source": [
    "from sklearn.datasets import fetch_openml ## Importation des données MNIST\n"
   ]
  },
  {
   "cell_type": "code",
   "execution_count": 4,
   "metadata": {},
   "outputs": [],
   "source": [
    "mnist = fetch_openml('mnist_784')\n",
    "\n",
    "X = mnist.data.astype('float64')\n",
    "y = mnist.target.astype(np.int8)\n"
   ]
  },
  {
   "cell_type": "code",
   "execution_count": 5,
   "metadata": {},
   "outputs": [
    {
     "data": {
      "text/plain": [
       "dict_keys(['data', 'target', 'feature_names', 'DESCR', 'details', 'categories', 'url'])"
      ]
     },
     "execution_count": 5,
     "metadata": {},
     "output_type": "execute_result"
    }
   ],
   "source": [
    "mnist.keys()"
   ]
  },
  {
   "cell_type": "code",
   "execution_count": 6,
   "metadata": {},
   "outputs": [
    {
     "data": {
      "text/plain": [
       "(70000, 784)"
      ]
     },
     "execution_count": 6,
     "metadata": {},
     "output_type": "execute_result"
    }
   ],
   "source": [
    "X.shape"
   ]
  },
  {
   "cell_type": "code",
   "execution_count": 7,
   "metadata": {},
   "outputs": [
    {
     "data": {
      "text/plain": [
       "(70000,)"
      ]
     },
     "execution_count": 7,
     "metadata": {},
     "output_type": "execute_result"
    }
   ],
   "source": [
    "y.shape"
   ]
  },
  {
   "cell_type": "code",
   "execution_count": 8,
   "metadata": {},
   "outputs": [
    {
     "data": {
      "text/plain": [
       "array([[0., 0., 0., ..., 0., 0., 0.],\n",
       "       [0., 0., 0., ..., 0., 0., 0.],\n",
       "       [0., 0., 0., ..., 0., 0., 0.],\n",
       "       ...,\n",
       "       [0., 0., 0., ..., 0., 0., 0.],\n",
       "       [0., 0., 0., ..., 0., 0., 0.],\n",
       "       [0., 0., 0., ..., 0., 0., 0.]])"
      ]
     },
     "execution_count": 8,
     "metadata": {},
     "output_type": "execute_result"
    }
   ],
   "source": [
    "X"
   ]
  },
  {
   "cell_type": "code",
   "execution_count": 9,
   "metadata": {},
   "outputs": [
    {
     "data": {
      "text/plain": [
       "array([5, 0, 4, ..., 4, 5, 6], dtype=int8)"
      ]
     },
     "execution_count": 9,
     "metadata": {},
     "output_type": "execute_result"
    }
   ],
   "source": [
    "y"
   ]
  },
  {
   "cell_type": "markdown",
   "metadata": {},
   "source": [
    "La matrice X, de taille (70000, 784), contient des vecteurs dont les éléments codent chaque image (pixels) de la base de données. Le vecteur y, de longueur 70000, contient les étiquettes de ces images."
   ]
  },
  {
   "cell_type": "markdown",
   "metadata": {},
   "source": [
    "### Question 2:\n",
    "    \n",
    "Nous transformons X et y pour ne garder que les cas des chiffres 3 et 7. X ne contiendra plus que les matrices codant les images des chiffres 3 et 7, et y les étiquettes correspondantes."
   ]
  },
  {
   "cell_type": "code",
   "execution_count": 10,
   "metadata": {
    "scrolled": true
   },
   "outputs": [],
   "source": [
    "classe_3 = np.array(y == 3)\n",
    "classe_7 = np.array(y == 7)\n",
    "classe_3_7 = classe_3 + classe_7\n",
    "\n",
    "X_3_7 = X[classe_3_7]\n",
    "y_3_7 = y[classe_3_7]\n"
   ]
  },
  {
   "cell_type": "markdown",
   "metadata": {},
   "source": [
    "Nous visualisons avec imshow un exemple de chaque classe d'image (un X donc), en utilisant un reshape adapté."
   ]
  },
  {
   "cell_type": "code",
   "execution_count": 11,
   "metadata": {},
   "outputs": [
    {
     "data": {
      "text/plain": [
       "<matplotlib.image.AxesImage at 0xa819c18>"
      ]
     },
     "execution_count": 11,
     "metadata": {},
     "output_type": "execute_result"
    },
    {
     "data": {
      "image/png": "[encoded data removed]",
      "text/plain": [
       "<Figure size 1440x288 with 2 Axes>"
      ]
     },
     "metadata": {
      "needs_background": "light"
     },
     "output_type": "display_data"
    }
   ],
   "source": [
    "plt.figure(figsize = (20, 4))\n",
    "\n",
    "plt.subplot(1, 2, 1)\n",
    "image_3 = X[classe_3][10].reshape((28, 28))\n",
    "plt.imshow(image_3, cmap = plt.cm.gray)\n",
    "\n",
    "plt.subplot(1, 2, 2)\n",
    "image_7 = X[classe_7][30].reshape((28, 28))\n",
    "plt.imshow(image_7, cmap = plt.cm.gray)"
   ]
  },
  {
   "cell_type": "markdown",
   "metadata": {},
   "source": [
    "La première image est effectivement un 3 et la deuxième image un 7."
   ]
  },
  {
   "cell_type": "markdown",
   "metadata": {},
   "source": [
    "### Question 3:\n",
    "\n",
    "Nous allons utiliser la fonction $LogisticRegression$ pour apprendre un modèle de classification sur l'intégralité des données. Nous choisirons un cas sans ordonnée à l'origine, c'est-à-dire l'option fit_intercept = False."
   ]
  },
  {
   "cell_type": "code",
   "execution_count": 12,
   "metadata": {},
   "outputs": [
    {
     "name": "stderr",
     "output_type": "stream",
     "text": [
      "C:\\Users\\Emeline\\Anaconda3\\lib\\site-packages\\sklearn\\linear_model\\logistic.py:433: FutureWarning: Default solver will be changed to 'lbfgs' in 0.22. Specify a solver to silence this warning.\n",
      "  FutureWarning)\n"
     ]
    },
    {
     "data": {
      "text/plain": [
       "LogisticRegression(C=1.0, class_weight=None, dual=False, fit_intercept=False,\n",
       "          intercept_scaling=1, max_iter=100, multi_class='warn',\n",
       "          n_jobs=None, penalty='l2', random_state=None, solver='warn',\n",
       "          tol=0.0001, verbose=0, warm_start=False)"
      ]
     },
     "execution_count": 12,
     "metadata": {},
     "output_type": "execute_result"
    }
   ],
   "source": [
    "from sklearn import linear_model\n",
    "\n",
    "logisticRegr = linear_model.LogisticRegression(fit_intercept=False)\n",
    "logisticRegr.fit(X_3_7, y_3_7)"
   ]
  },
  {
   "cell_type": "markdown",
   "metadata": {},
   "source": [
    "Le modèle prédit alors la classe d'une image en considérant une image comme un vecteur $x$ et en choisissant l'une des deux classes selon le signe de $w^\\top x$, où $w$ est le vecteur appris par la méthode et stocké dans l'attribut .coef_. "
   ]
  },
  {
   "cell_type": "code",
   "execution_count": 13,
   "metadata": {},
   "outputs": [],
   "source": [
    "w = logisticRegr.coef_"
   ]
  },
  {
   "cell_type": "markdown",
   "metadata": {},
   "source": [
    "Nous observons la taille de $w$ qui constituera une information utile, à la question suivante, dans l'application de la fonction."
   ]
  },
  {
   "cell_type": "code",
   "execution_count": 15,
   "metadata": {},
   "outputs": [
    {
     "data": {
      "text/plain": [
       "(1, 784)"
      ]
     },
     "execution_count": 15,
     "metadata": {},
     "output_type": "execute_result"
    }
   ],
   "source": [
    "w.shape"
   ]
  },
  {
   "cell_type": "markdown",
   "metadata": {},
   "source": [
    "### Question 4 :\n",
    "\n",
    "Dans cette question, nous proposons un widget qui investigue l'impact de la transformation de l'image par l'opération suivante : $$x_{mod} = x - \\alpha \\frac{w^\\top x}{{\\|w\\|}^2} w .$$\n",
    "\n",
    "Nous prendrons pour $x$ l'image associée au chiffre 7 de la question 2. Le widget fera varier $\\alpha$ de 0.1 à 100 avec un pas de 0.1."
   ]
  },
  {
   "cell_type": "markdown",
   "metadata": {},
   "source": [
    "Nous définissons la fonction $fig\\_digit$ dans le fichier utils.py et nous l'appelons."
   ]
  },
  {
   "cell_type": "code",
   "execution_count": 16,
   "metadata": {},
   "outputs": [],
   "source": [
    "from utils import fig_digit"
   ]
  },
  {
   "cell_type": "code",
   "execution_count": 21,
   "metadata": {},
   "outputs": [
    {
     "name": "stdout",
     "output_type": "stream",
     "text": [
      "Help on function fig_digit in module utils:\n",
      "\n",
      "fig_digit(x_init, w_regression, alpha)\n",
      "    Entrées : fit_digit prend en arguments le vecteur codant l'image initiale : x_init,\n",
      "                    le vecteur w contenant les coefficients obtenus par la régression : w_regression,\n",
      "                    un réel alpha.\n",
      "    \n",
      "    fit_digit affiche l'image de x_init, transformée par l'opération suivante :\n",
      "    x_mod = x_init - alpha * ((w_regression^T * x_init) / norme(w_regression)**2) * w_regression.\n",
      "\n"
     ]
    }
   ],
   "source": [
    "help(fig_digit)"
   ]
  },
  {
   "cell_type": "markdown",
   "metadata": {},
   "source": [
    "Nous allons tester la fonction $fit\\_digit$ avec le $x$ de l'image associé au chiffre 7 (de la question précédente), le $w$ obtenu par la régression logistique, et $\\alpha = 0.1$."
   ]
  },
  {
   "cell_type": "code",
   "execution_count": 17,
   "metadata": {},
   "outputs": [
    {
     "data": {
      "image/png": "[encoded data removed]",
      "text/plain": [
       "<Figure size 432x288 with 1 Axes>"
      ]
     },
     "metadata": {
      "needs_background": "light"
     },
     "output_type": "display_data"
    }
   ],
   "source": [
    "x_img_7 = X[classe_7][30]\n",
    "fig_digit(x_img_7, w.T, 0.1)"
   ]
  },
  {
   "cell_type": "markdown",
   "metadata": {},
   "source": [
    "Nous créons maintenant le widget dont le curseur permet de faire varier la valeur de $\\alpha$."
   ]
  },
  {
   "cell_type": "code",
   "execution_count": 20,
   "metadata": {},
   "outputs": [
    {
     "data": {
      "application/vnd.jupyter.widget-view+json": {
       "model_id": "554475680840480a9c84632c9865d19e",
       "version_major": 2,
       "version_minor": 0
      },
      "text/plain": [
       "interactive(children=(FloatSlider(value=50.00000000000001, description='alpha', min=0.1), Output()), _dom_clas…"
      ]
     },
     "metadata": {},
     "output_type": "display_data"
    }
   ],
   "source": [
    "interact(fig_digit, x_init = fixed(x_img_7), w_regression = fixed(w.T), alpha = (0.1, 100, 0.1));"
   ]
  },
  {
   "cell_type": "markdown",
   "metadata": {},
   "source": [
    "### Question 6 : \n",
    "\n",
    "Décrivons mathématiquement ce que paramétrise le paramètre $\\alpha > 0$."
   ]
  },
  {
   "cell_type": "markdown",
   "metadata": {},
   "source": [
    "Le paramètre $\\alpha > 0$ paramétrise la modification de l'image $x$. En effet, dans la formule $$x_{mod} = x - \\alpha \\frac{w^\\top x}{{\\|w\\|}^2} w ,$$ le vecteur $w$ des coefficients de la régression logistique et le vecteur $x$ codant les pixels de l'image, restent constants. Le paramètre $\\alpha$ est un coefficient multiplicateur de $\\frac{w^\\top x}{{\\|w\\|}^2} w$, et plus celui-ci augmente, plus la différence entre le $x$ initial et le $x$ transformé sera grande. Donc, l'image sera d'autant plus modifiée que le vecteur $\\alpha$ augmentera.\n",
    "\n",
    "Nous pouvons constater cela via le widget et le film. Lorsque $\\alpha$ est très proche de 0, les images, initiale et transformée, sont similaires. Nous observons la différence entre ces images s'accroître en augmentant $\\alpha$. Quand la valeur de $\\alpha$ est très élevée (par exemple $\\alpha = 100$), le chiffre sur l'image n'est même plus perceptible."
   ]
  },
  {
   "cell_type": "markdown",
   "metadata": {},
   "source": [
    "### Question 7 :\n",
    "\n",
    "Nous allons proposer une analyse en composante principale afin de visualiser la base de données dans un espace de dimension 2. Nous ajusterons les couleurs selon la classe des données."
   ]
  },
  {
   "cell_type": "code",
   "execution_count": 30,
   "metadata": {},
   "outputs": [
    {
     "name": "stdout",
     "output_type": "stream",
     "text": [
      "Automatically created module for IPython interactive environment\n"
     ]
    },
    {
     "data": {
      "image/png": "[encoded data removed]",
      "text/plain": [
       "<Figure size 576x576 with 1 Axes>"
      ]
     },
     "metadata": {
      "needs_background": "light"
     },
     "output_type": "display_data"
    },
    {
     "data": {
      "image/png": "[encoded data removed]",
      "text/plain": [
       "<Figure size 576x576 with 1 Axes>"
      ]
     },
     "metadata": {
      "needs_background": "light"
     },
     "output_type": "display_data"
    }
   ],
   "source": [
    "print(__doc__)\n",
    "\n",
    "from sklearn.decomposition import PCA\n",
    "from sklearn.decomposition import IncrementalPCA\n",
    "\n",
    "n_components = 2\n",
    "ipca = IncrementalPCA(n_components = n_components, batch_size = 10)\n",
    "X_ipca = ipca.fit_transform(X)\n",
    "\n",
    "pca = PCA(n_components = n_components)\n",
    "X_pca = pca.fit_transform(X)\n",
    "\n",
    "y_names = np.array(['0', '1', '2', '3', '4', '5', '6', '7', '8', '9'])\n",
    "colors = ['navy', 'turquoise', 'darkorange', 'red', 'green', 'blue', 'magenta', 'yellow', 'darkgrey', 'darkviolet']\n",
    "\n",
    "for X_transformed, title in [(X_ipca, \"ACP incrémentale\"), (X_pca, \"ACP\")]:\n",
    "    plt.figure(figsize = (8, 8))\n",
    "    for color, i, target_name in zip(colors, [0, 1, 2, 3, 4, 5, 6, 7, 8, 9], y_names):\n",
    "        plt.scatter(X_transformed[y == i, 0], X_transformed[y == i, 1],\n",
    "                    color = color, lw = 2, label = target_name)\n",
    "\n",
    "    if \"incrémentale\" in title:\n",
    "        err = np.abs(np.abs(X_pca) - np.abs(X_ipca)).mean()\n",
    "        plt.title(title + \" du jeu de données MNIST\\n Valeur absolue de l'erreur moyenne \" \"%.6f\" % err)\n",
    "    else:\n",
    "        plt.title(title + \" du jeu de données MNIST\")\n",
    "    plt.legend(loc = \"best\", shadow = False, scatterpoints = 1)\n",
    "    plt.axis([-2000, 2750, -2000, 2000])\n",
    "\n",
    "plt.show()"
   ]
  },
  {
   "cell_type": "markdown",
   "metadata": {},
   "source": [
    "Nous observons les dix classes, chaque chiffre (de 0 à 9) étant représenté par une couleur comme indiqué dans la légende."
   ]
  }
 ],
 "metadata": {
  "kernelspec": {
   "display_name": "Python 3",
   "language": "python",
   "name": "python3"
  },
  "language_info": {
   "codemirror_mode": {
    "name": "ipython",
    "version": 3
   },
   "file_extension": ".py",
   "mimetype": "text/x-python",
   "name": "python",
   "nbconvert_exporter": "python",
   "pygments_lexer": "ipython3",
   "version": "3.7.3"
  }
 },
 "nbformat": 4,
 "nbformat_minor": 2
}
